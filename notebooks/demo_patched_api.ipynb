{
 "cells": [
  {
   "cell_type": "code",
   "execution_count": null,
   "id": "0c0cebc1",
   "metadata": {},
   "outputs": [],
   "source": [
    "# If you're on the cloned git repo, use this to install the patched version\n",
    "%pip install .."
   ]
  },
  {
   "cell_type": "markdown",
   "id": "69c9948c",
   "metadata": {},
   "source": [
    "This notebook demonstrates the functionalities of the patched aflow API. \n",
    "Most of them should be compatible with aflow version <= 0.0.11."
   ]
  },
  {
   "cell_type": "markdown",
   "id": "d97382f7",
   "metadata": {},
   "source": [
    "## Implementation details"
   ]
  },
  {
   "cell_type": "markdown",
   "id": "5acb9c5d",
   "metadata": {},
   "source": [
    "First, check the version of aflow. "
   ]
  },
  {
   "cell_type": "code",
   "execution_count": 1,
   "id": "7896c4b9",
   "metadata": {},
   "outputs": [
    {
     "name": "stdout",
     "output_type": "stream",
     "text": [
      "Name: aflow\n",
      "Version: 0.0.11-patched\n",
      "Summary: Python API for searching AFLOW database. Forked from rosenbrockc/aflow\n",
      "Home-page: https://github.com/ulissigroup/aflow\n",
      "Author: Conrad W Rosenbrock\n",
      "Author-email: rosenbrockc@gmail.com\n",
      "License: MIT\n",
      "Location: /Users/ttian/miniforge3/envs/aflow-patched/lib/python3.9/site-packages\n",
      "Requires: termcolor, numpy, six, ase, sympy\n",
      "Required-by: \n",
      "Note: you may need to restart the kernel to use updated packages.\n"
     ]
    }
   ],
   "source": [
    "# Check the \"Version\" field of the outputs\n",
    "%pip show aflow"
   ]
  },
  {
   "cell_type": "markdown",
   "id": "42d71b17",
   "metadata": {},
   "source": [
    "The `search` and `K` syntaxes are the same as in previous version. The implementation of `K` is a bit different. "
   ]
  },
  {
   "cell_type": "code",
   "execution_count": 2,
   "id": "849f3716",
   "metadata": {},
   "outputs": [],
   "source": [
    "import aflow\n",
    "from aflow import search, K"
   ]
  },
  {
   "cell_type": "code",
   "execution_count": 3,
   "id": "9e7e2ab9",
   "metadata": {},
   "outputs": [
    {
     "name": "stdout",
     "output_type": "stream",
     "text": [
      "<class 'types.SimpleNamespace'>\n",
      "<class 'aflow.keywords.auid'>\n"
     ]
    }
   ],
   "source": [
    "print(type(K))\n",
    "print(type(K.auid))"
   ]
  },
  {
   "cell_type": "markdown",
   "id": "f95c70d9",
   "metadata": {},
   "source": [
    "The help documents for each `K.<keyword>` is dynamically generated from aflow api schema."
   ]
  },
  {
   "cell_type": "code",
   "execution_count": 4,
   "id": "c7e6c1a3",
   "metadata": {
    "scrolled": true
   },
   "outputs": [
    {
     "name": "stdout",
     "output_type": "stream",
     "text": [
      "Help on auid in module aflow.keywords object:\n",
      "\n",
      "class auid(Keyword)\n",
      " |  Aflowlib unique identifier\n",
      " |  AFLOWLIB Unique Identifier for the entry, AUID, which can be used as a publishable object identifier.\n",
      " |  \n",
      " |  format: %s\n",
      " |  type:   string\n",
      " |  inclusion:      mandatory\n",
      " |  expression:     declarative\n",
      " |  example:        auid=aflow:e9c6d914c4b8d9ca\n",
      " |  syntax: $aurl/?auid\n",
      " |  \n",
      " |  Method resolution order:\n",
      " |      auid\n",
      " |      Keyword\n",
      " |      builtins.object\n",
      " |  \n",
      " |  Data and other attributes defined here:\n",
      " |  \n",
      " |  atype = 'string'\n",
      " |  \n",
      " |  delimiter = None\n",
      " |  \n",
      " |  name = 'auid'\n",
      " |  \n",
      " |  ptype = <class 'str'>\n",
      " |      str(object='') -> str\n",
      " |      str(bytes_or_buffer[, encoding[, errors]]) -> str\n",
      " |      \n",
      " |      Create a new string object from the given object. If encoding or\n",
      " |      errors is specified, then the object must expose a data buffer\n",
      " |      that will be decoded using the given encoding and error handler.\n",
      " |      Otherwise, returns the result of object.__str__() (if defined)\n",
      " |      or repr(object).\n",
      " |      encoding defaults to sys.getdefaultencoding().\n",
      " |      errors defaults to 'strict'.\n",
      " |  \n",
      " |  \n",
      " |  status = 'production'\n",
      " |  \n",
      " |  ----------------------------------------------------------------------\n",
      " |  Methods inherited from Keyword:\n",
      " |  \n",
      " |  __and__(self, other)\n",
      " |  \n",
      " |  __eq__(self, other)\n",
      " |      Return self==value.\n",
      " |  \n",
      " |  __ge__(self, other)\n",
      " |      Return self>=value.\n",
      " |  \n",
      " |  __gt__(self, other)\n",
      " |      Return self>value.\n",
      " |  \n",
      " |  __hash__(self)\n",
      " |      Return hash(self).\n",
      " |  \n",
      " |  __init__(self)\n",
      " |      initialize the symbols\n",
      " |  \n",
      " |  __invert__(self)\n",
      " |  \n",
      " |  __le__(self, other)\n",
      " |      Use sympy to compare\n",
      " |  \n",
      " |  __lt__(self, other)\n",
      " |      Return self<value.\n",
      " |  \n",
      " |  __mod__(self, other)\n",
      " |      Use Implies to simulate the MOD operator\n",
      " |  \n",
      " |  __ne__(self, other)\n",
      " |      Return self!=value.\n",
      " |  \n",
      " |  __or__(self, other)\n",
      " |  \n",
      " |  __str__(self)\n",
      " |      Return str(self).\n",
      " |  \n",
      " |  ----------------------------------------------------------------------\n",
      " |  Data descriptors inherited from Keyword:\n",
      " |  \n",
      " |  __dict__\n",
      " |      dictionary for instance variables (if defined)\n",
      " |  \n",
      " |  __weakref__\n",
      " |      list of weak references to the object (if defined)\n",
      "\n"
     ]
    }
   ],
   "source": [
    "help(K.auid)"
   ]
  },
  {
   "cell_type": "markdown",
   "id": "2d4b4f25",
   "metadata": {},
   "source": [
    "Logic operations of `K.<keyword>` are now handled by `sympy`. "
   ]
  },
  {
   "cell_type": "code",
   "execution_count": 5,
   "id": "54588b18",
   "metadata": {},
   "outputs": [
    {
     "data": {
      "text/latex": [
       "$\\displaystyle x_{egap} > 1.0 \\wedge x_{egap} < 2.0$"
      ],
      "text/plain": [
       "(x_egap > 1.0) & (x_egap < 2.0)"
      ]
     },
     "execution_count": 5,
     "metadata": {},
     "output_type": "execute_result"
    }
   ],
   "source": [
    "(K.Egap > 1.0) & (K.Egap < 2.0)"
   ]
  },
  {
   "cell_type": "markdown",
   "id": "56301eb4",
   "metadata": {},
   "source": [
    "Conversion of logic operations to aflow-style string is implemented in `aflow.logic`"
   ]
  },
  {
   "cell_type": "code",
   "execution_count": 6,
   "id": "808054d8",
   "metadata": {},
   "outputs": [
    {
     "data": {
      "text/plain": [
       "'Egap(!*1.0,!2.0*)'"
      ]
     },
     "execution_count": 6,
     "metadata": {},
     "output_type": "execute_result"
    }
   ],
   "source": [
    "from aflow.logic import _expr_to_strings\n",
    "_expr_to_strings((K.Egap > 1.0) & (K.Egap < 2.0))"
   ]
  },
  {
   "cell_type": "markdown",
   "id": "c26ed2c6",
   "metadata": {},
   "source": [
    "# Usage examples"
   ]
  },
  {
   "cell_type": "markdown",
   "id": "b5d9eca8",
   "metadata": {},
   "source": [
    "### Basic searching examples\n",
    "A query can be made combining `filter`, `select`, `exclude`, and `orderby`.\n",
    "The example below shows how to search for materials containing element Si. \n",
    "The results returns the bandgap of the material and ordered by DFT energy per atom."
   ]
  },
  {
   "cell_type": "code",
   "execution_count": 8,
   "id": "efaab722",
   "metadata": {},
   "outputs": [],
   "source": [
    "q = search(\n",
    "     ).filter(K.species == \"Si\"\n",
    "     ).select(K.Egap\n",
    "     ).orderby(K.energy_atom)"
   ]
  },
  {
   "cell_type": "markdown",
   "id": "0c2f1148",
   "metadata": {},
   "source": [
    "Let's look at the query string sent to aflow, note the brackets."
   ]
  },
  {
   "cell_type": "code",
   "execution_count": 9,
   "id": "11ade5ec",
   "metadata": {},
   "outputs": [
    {
     "data": {
      "text/plain": [
       "\"energy_atom,Egap,species('Si')\""
      ]
     },
     "execution_count": 9,
     "metadata": {},
     "output_type": "execute_result"
    }
   ],
   "source": [
    "q.matchbook()"
   ]
  },
  {
   "cell_type": "markdown",
   "id": "43066ef6",
   "metadata": {},
   "source": [
    "Reading the numbers of returned results will automatically load the raw http responses. \n",
    "Can take up to a few minutes to finish the query."
   ]
  },
  {
   "cell_type": "code",
   "execution_count": 10,
   "id": "9d8a96f1",
   "metadata": {},
   "outputs": [
    {
     "name": "stdout",
     "output_type": "stream",
     "text": [
      "CPU times: user 9.93 ms, sys: 12.2 ms, total: 22.2 ms\n",
      "Wall time: 35.3 s\n"
     ]
    }
   ],
   "source": [
    "%time N = len(q)"
   ]
  },
  {
   "cell_type": "markdown",
   "id": "93c0ba3e",
   "metadata": {},
   "source": [
    "For convenience, all the valid keywords can be read from the entry. \n",
    "If your initial query does not contain this keyword, the json file for the entry will be downloaded automatically"
   ]
  },
  {
   "cell_type": "code",
   "execution_count": 14,
   "id": "8cdbe6aa",
   "metadata": {},
   "outputs": [
    {
     "name": "stdout",
     "output_type": "stream",
     "text": [
      "CPU times: user 251 µs, sys: 21 µs, total: 272 µs\n",
      "Wall time: 277 µs\n"
     ]
    },
    {
     "data": {
      "text/plain": [
       "0.0"
      ]
     },
     "execution_count": 14,
     "metadata": {},
     "output_type": "execute_result"
    }
   ],
   "source": [
    "# Very quick\n",
    "%time q[0].Egap"
   ]
  },
  {
   "cell_type": "code",
   "execution_count": 15,
   "id": "e0151531",
   "metadata": {},
   "outputs": [
    {
     "name": "stdout",
     "output_type": "stream",
     "text": [
      "CPU times: user 10.9 ms, sys: 4.06 ms, total: 14.9 ms\n",
      "Wall time: 166 ms\n"
     ]
    }
   ],
   "source": [
    "# Takes longer since needs to request the CONTCAR.relax file\n",
    "%time atoms = q[0].atoms()"
   ]
  },
  {
   "cell_type": "markdown",
   "id": "2567b97b",
   "metadata": {},
   "source": [
    "### Complex filter conditions\n",
    "Since the conditional search in new aflow API is implemented using logic module in `sympy`, \n",
    "it is possible to use complex expressions and use internal `sympy` functionalities to simply the matchbook. \n",
    "The example below shows how to search materials containing elements Si and O or N, while excluding H and halogens."
   ]
  },
  {
   "cell_type": "code",
   "execution_count": 16,
   "id": "bd87422e",
   "metadata": {},
   "outputs": [
    {
     "data": {
      "text/plain": [
       "\"species('Si',('N':'O'),!('Br':'Cl':'F':'I'))\""
      ]
     },
     "execution_count": 16,
     "metadata": {},
     "output_type": "execute_result"
    }
   ],
   "source": [
    "q = search().filter(\n",
    "    (K.species == \"Si\") & ((K.species == \"O\") | (K.species == \"N\")) \n",
    "    & ~((K.species == \"F\") | (K.species == \"Cl\") | (K.species == \"Br\") | (K.species == \"I\"))\n",
    "    )\n",
    "q.matchbook()"
   ]
  },
  {
   "cell_type": "markdown",
   "id": "b8089375",
   "metadata": {},
   "source": [
    "Alternatively one can use `sympy` to simply logic operations."
   ]
  },
  {
   "cell_type": "code",
   "execution_count": 17,
   "id": "7e3b69bd",
   "metadata": {},
   "outputs": [
    {
     "data": {
      "text/plain": [
       "\"species('Si',!'Br',!'Cl',!'F',!'I',('N':'O'))\""
      ]
     },
     "execution_count": 17,
     "metadata": {},
     "output_type": "execute_result"
    }
   ],
   "source": [
    "condition = ((K.species == \"Si\") & ((K.species == \"O\") | (K.species == \"N\")) \n",
    "    & ~((K.species == \"F\") | (K.species == \"Cl\") | (K.species == \"Br\") | (K.species == \"I\")))\n",
    "condition = condition.simplify()\n",
    "q = search().filter(condition)\n",
    "q.matchbook()"
   ]
  },
  {
   "cell_type": "markdown",
   "id": "74dc6381",
   "metadata": {},
   "source": [
    "The new python API supports generating conditions dynamically"
   ]
  },
  {
   "cell_type": "code",
   "execution_count": 18,
   "id": "4316a7d7",
   "metadata": {},
   "outputs": [
    {
     "data": {
      "text/plain": [
       "\"species('Al','O','Si',('H':'Li':'Na'),!('Br','Cl','F','I'))\""
      ]
     },
     "execution_count": 18,
     "metadata": {},
     "output_type": "execute_result"
    }
   ],
   "source": [
    "from functools import reduce\n",
    "\n",
    "compulsory_elements = [\"Si\", \"Al\", \"O\"]\n",
    "optional_elements = [\"H\", \"Na\", \"Li\"]\n",
    "forbidden_elements = [\"F\", \"Cl\", \"Br\", \"I\"]\n",
    "\n",
    "# Use reduce and map to construct boolean conditions from iterative\n",
    "cond1 = reduce(lambda a,b: a & b, map(lambda s: K.species == s, compulsory_elements))\n",
    "cond2 = reduce(lambda a,b: a | b, map(lambda s: K.species == s, optional_elements))\n",
    "cond3 = reduce(lambda a,b: a & b, map(lambda s: K.species == s, forbidden_elements))\n",
    "\n",
    "# Assume no simplification at first place\n",
    "condition = cond1 & cond2 & ~cond3\n",
    "q = search().filter(condition)\n",
    "q.matchbook()"
   ]
  },
  {
   "cell_type": "markdown",
   "id": "9509eb04",
   "metadata": {},
   "source": [
    "### Combining filter keywords\n",
    "The recommended way to use multiple boolean operators is to call `Query.filter` multiple times, \n",
    "as long as the groups of boolean conditions are combined using `AND` operator.\n",
    "\n",
    "The following example shows search with multiple spacegroups and bandgap within certain range, adapted from the original aflow API documentation"
   ]
  },
  {
   "cell_type": "code",
   "execution_count": 19,
   "id": "570f924e",
   "metadata": {},
   "outputs": [
    {
     "data": {
      "text/plain": [
       "'nspecies,enthalpy_formation_atom,aurl,species,species_pp,spacegroup_relax(119:139:216:225),Egap(1.0*,*5.0)'"
      ]
     },
     "execution_count": 19,
     "metadata": {},
     "output_type": "execute_result"
    }
   ],
   "source": [
    "q = search(batch_size=100\n",
    "    ).filter( \n",
    "        (K.spacegroup_relax == 216) |\n",
    "        (K.spacegroup_relax == 225) |\n",
    "        (K.spacegroup_relax == 139) |\n",
    "        (K.spacegroup_relax == 119)\n",
    "    ).filter(\n",
    "        (K.Egap >= 1.0) &\n",
    "        (K.Egap <= 5.0)\n",
    "    ).select(\n",
    "        K.enthalpy_formation_atom,\n",
    "        K.aurl,\n",
    "        K.species,\n",
    "        K.species_pp\n",
    "    ).orderby(\n",
    "        K.nspecies\n",
    "    )\n",
    "q.matchbook()"
   ]
  },
  {
   "cell_type": "markdown",
   "id": "0252ea22",
   "metadata": {},
   "source": [
    "If you want to use more complex binary conditions between different keywords, \n",
    "it is posible to provide them as a single filter. \n",
    "However note `sympy` simplification in this case \n",
    "may be unreliable and you need to check the `matchbook` if running into problems"
   ]
  },
  {
   "cell_type": "code",
   "execution_count": 20,
   "id": "e60050d7",
   "metadata": {},
   "outputs": [
    {
     "name": "stderr",
     "output_type": "stream",
     "text": [
      "/Users/ttian/miniforge3/envs/aflow-patched/lib/python3.9/site-packages/aflow/logic.py:178: UserWarning: Mixing multiple filter keyword logic has only minimal support. Please check the actual outputs of Query.matchbook() if running into issues.\n",
      "Consider use consecutive calls to Query.filter with only one keyword\n",
      "  warn(\n"
     ]
    },
    {
     "data": {
      "text/plain": [
       "\"catalog('ICSD'):Egap(!*1.0)\""
      ]
     },
     "execution_count": 20,
     "metadata": {},
     "output_type": "execute_result"
    }
   ],
   "source": [
    "# Query with no practical meaning but showing you can do this\n",
    "q = search().filter(\n",
    "        (K.catalog == \"ICSD\") | (K.Egap > 1.0)\n",
    "    )\n",
    "q.matchbook()"
   ]
  },
  {
   "cell_type": "markdown",
   "id": "6f976316",
   "metadata": {},
   "source": [
    "If you find constructing by `K.<keyword>` not practical in your case, \n",
    "`filter` can also take a string as inputs (with minimal syntax check)."
   ]
  },
  {
   "cell_type": "code",
   "execution_count": 21,
   "id": "967cbbc7",
   "metadata": {},
   "outputs": [
    {
     "data": {
      "text/plain": [
       "'Egap(1.0*,*5.0),nspecies(2*,*4)'"
      ]
     },
     "execution_count": 21,
     "metadata": {},
     "output_type": "execute_result"
    }
   ],
   "source": [
    "# Search for binary to quaternary compounds with Egap betwen 1.0 ~ 5.0 eV\n",
    "q = search().filter(\"Egap(1.0*,*5.0),nspecies(2*,*4)\")\n",
    "q.matchbook()"
   ]
  },
  {
   "cell_type": "code",
   "execution_count": 23,
   "id": "c6ed77a8",
   "metadata": {},
   "outputs": [
    {
     "name": "stdout",
     "output_type": "stream",
     "text": [
      "\u001b[31mERROR: Input ~Egap(1.0*,*5.0),nspecies(2*,*4) contains one or more of the forbidden characters: ('\"', '@', '\\\\', '~', '/')\u001b[0m\n"
     ]
    },
    {
     "data": {
      "text/plain": [
       "''"
      ]
     },
     "execution_count": 23,
     "metadata": {},
     "output_type": "execute_result"
    }
   ],
   "source": [
    "# filter will check for invalid characters\n",
    "q = search().filter(\"~Egap(1.0*,*5.0),nspecies(2*,*4)\")\n",
    "q.matchbook()"
   ]
  },
  {
   "cell_type": "markdown",
   "id": "852dbced",
   "metadata": {},
   "source": [
    "As a last resort, the new python API allows you to manually set the search url (combining filter, select, exclude etc). \n",
    "You don't need to set the paging part as it will be handled by `Query` automatically."
   ]
  },
  {
   "cell_type": "code",
   "execution_count": 31,
   "id": "48572f75",
   "metadata": {},
   "outputs": [
    {
     "data": {
      "text/plain": [
       "\"energy_atom,Egap,species('Si')\""
      ]
     },
     "execution_count": 31,
     "metadata": {},
     "output_type": "execute_result"
    }
   ],
   "source": [
    "q = search().set_manual_matchbook(\"energy_atom,Egap,species('Si')\")\n",
    "q.matchbook()"
   ]
  },
  {
   "cell_type": "markdown",
   "id": "8312e25d",
   "metadata": {},
   "source": [
    "Calling `set_manual_matchbook` will make your query \"finalized\", \n",
    "i.e. no longer possible to change query contents."
   ]
  },
  {
   "cell_type": "code",
   "execution_count": 32,
   "id": "e6b08a45",
   "metadata": {},
   "outputs": [
    {
     "data": {
      "text/plain": [
       "True"
      ]
     },
     "execution_count": 32,
     "metadata": {},
     "output_type": "execute_result"
    }
   ],
   "source": [
    "q._final"
   ]
  },
  {
   "cell_type": "code",
   "execution_count": 34,
   "id": "5604bff1",
   "metadata": {},
   "outputs": [
    {
     "name": "stdout",
     "output_type": "stream",
     "text": [
      "\u001b[36mThis query has been finalized. It cannot be mutated. Create a new query to change the matchbook.\u001b[0m\n"
     ]
    },
    {
     "data": {
      "text/plain": [
       "\"energy_atom,Egap,species('Si')\""
      ]
     },
     "execution_count": 34,
     "metadata": {},
     "output_type": "execute_result"
    }
   ],
   "source": [
    "q = q.filter(K.Egap > 0.5)\n",
    "q.matchbook()        # Should be the same"
   ]
  },
  {
   "cell_type": "code",
   "execution_count": null,
   "id": "a5dc16e9",
   "metadata": {},
   "outputs": [],
   "source": []
  }
 ],
 "metadata": {
  "kernelspec": {
   "display_name": "Python 3",
   "language": "python",
   "name": "python3"
  },
  "language_info": {
   "codemirror_mode": {
    "name": "ipython",
    "version": 3
   },
   "file_extension": ".py",
   "mimetype": "text/x-python",
   "name": "python",
   "nbconvert_exporter": "python",
   "pygments_lexer": "ipython3",
   "version": "3.9.4"
  }
 },
 "nbformat": 4,
 "nbformat_minor": 5
}
