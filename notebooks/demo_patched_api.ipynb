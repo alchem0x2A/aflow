{
 "cells": [
  {
   "cell_type": "markdown",
   "id": "d0bca3ac",
   "metadata": {},
   "source": [
    "This notebook demonstrates the functionalities of the patched aflow API. \n",
    "Most of them should be compatible with aflow version <= 0.0.11."
   ]
  },
  {
   "cell_type": "markdown",
   "id": "62790e87",
   "metadata": {},
   "source": [
    "## Implementation details"
   ]
  },
  {
   "cell_type": "markdown",
   "id": "27c0d013",
   "metadata": {},
   "source": [
    "First, check the version of aflow. "
   ]
  },
  {
   "cell_type": "code",
   "execution_count": 8,
   "id": "09b6e9ea",
   "metadata": {},
   "outputs": [
    {
     "name": "stdout",
     "output_type": "stream",
     "text": [
      "Name: aflow\n",
      "Version: 0.0.11-patched\n",
      "Summary: Python API for searching AFLOW database. Forked from rosenbrockc/aflow\n",
      "Home-page: https://github.com/ulissigroup/aflow\n",
      "Author: Conrad W Rosenbrock\n",
      "Author-email: rosenbrockc@gmail.com\n",
      "License: MIT\n",
      "Location: /Users/ttian/miniforge3/envs/aflow-patched/lib/python3.9/site-packages\n",
      "Requires: termcolor, numpy, six, ase, sympy\n",
      "Required-by: \n",
      "Note: you may need to restart the kernel to use updated packages.\n"
     ]
    }
   ],
   "source": [
    "%pip show  aflow"
   ]
  },
  {
   "cell_type": "markdown",
   "id": "51be2993",
   "metadata": {},
   "source": [
    "The `search` and `K` syntaxes are the same as in previous version. The implementation of `K` is a bit different. "
   ]
  },
  {
   "cell_type": "code",
   "execution_count": 12,
   "id": "f2569c2a",
   "metadata": {},
   "outputs": [],
   "source": [
    "import aflow\n",
    "from aflow import search, K"
   ]
  },
  {
   "cell_type": "code",
   "execution_count": 13,
   "id": "7415e1aa",
   "metadata": {},
   "outputs": [
    {
     "name": "stdout",
     "output_type": "stream",
     "text": [
      "<class 'types.SimpleNamespace'>\n",
      "<class 'aflow.keywords.auid'>\n"
     ]
    }
   ],
   "source": [
    "print(type(K))\n",
    "print(type(K.auid))"
   ]
  },
  {
   "cell_type": "markdown",
   "id": "fd08c6c6",
   "metadata": {},
   "source": [
    "The help documents for each `K.<keyword>` is dynamically generated from aflow api schema."
   ]
  },
  {
   "cell_type": "code",
   "execution_count": 16,
   "id": "a417b62f",
   "metadata": {
    "scrolled": true
   },
   "outputs": [
    {
     "name": "stdout",
     "output_type": "stream",
     "text": [
      "Help on auid in module aflow.keywords object:\n",
      "\n",
      "class auid(Keyword)\n",
      " |  Aflowlib unique identifier\n",
      " |  AFLOWLIB Unique Identifier for the entry, AUID, which can be used as a publishable object identifier.\n",
      " |  \n",
      " |  format: %s\n",
      " |  type:   string\n",
      " |  inclusion:      mandatory\n",
      " |  expression:     declarative\n",
      " |  example:        auid=aflow:e9c6d914c4b8d9ca\n",
      " |  syntax: $aurl/?auid\n",
      " |  \n",
      " |  Method resolution order:\n",
      " |      auid\n",
      " |      Keyword\n",
      " |      builtins.object\n",
      " |  \n",
      " |  Data and other attributes defined here:\n",
      " |  \n",
      " |  atype = 'string'\n",
      " |  \n",
      " |  delimiter = None\n",
      " |  \n",
      " |  name = 'auid'\n",
      " |  \n",
      " |  ptype = <class 'str'>\n",
      " |      str(object='') -> str\n",
      " |      str(bytes_or_buffer[, encoding[, errors]]) -> str\n",
      " |      \n",
      " |      Create a new string object from the given object. If encoding or\n",
      " |      errors is specified, then the object must expose a data buffer\n",
      " |      that will be decoded using the given encoding and error handler.\n",
      " |      Otherwise, returns the result of object.__str__() (if defined)\n",
      " |      or repr(object).\n",
      " |      encoding defaults to sys.getdefaultencoding().\n",
      " |      errors defaults to 'strict'.\n",
      " |  \n",
      " |  \n",
      " |  status = 'production'\n",
      " |  \n",
      " |  ----------------------------------------------------------------------\n",
      " |  Methods inherited from Keyword:\n",
      " |  \n",
      " |  __and__(self, other)\n",
      " |  \n",
      " |  __eq__(self, other)\n",
      " |      Return self==value.\n",
      " |  \n",
      " |  __ge__(self, other)\n",
      " |      Return self>=value.\n",
      " |  \n",
      " |  __gt__(self, other)\n",
      " |      Return self>value.\n",
      " |  \n",
      " |  __hash__(self)\n",
      " |      Return hash(self).\n",
      " |  \n",
      " |  __init__(self)\n",
      " |      initialize the symbols\n",
      " |  \n",
      " |  __invert__(self)\n",
      " |  \n",
      " |  __le__(self, other)\n",
      " |      Use sympy to compare\n",
      " |  \n",
      " |  __lt__(self, other)\n",
      " |      Return self<value.\n",
      " |  \n",
      " |  __mod__(self, other)\n",
      " |      Use Implies to simulate the MOD operator\n",
      " |  \n",
      " |  __ne__(self, other)\n",
      " |      Return self!=value.\n",
      " |  \n",
      " |  __or__(self, other)\n",
      " |  \n",
      " |  __str__(self)\n",
      " |      Return str(self).\n",
      " |  \n",
      " |  ----------------------------------------------------------------------\n",
      " |  Data descriptors inherited from Keyword:\n",
      " |  \n",
      " |  __dict__\n",
      " |      dictionary for instance variables (if defined)\n",
      " |  \n",
      " |  __weakref__\n",
      " |      list of weak references to the object (if defined)\n",
      "\n"
     ]
    }
   ],
   "source": [
    "help(K.auid)"
   ]
  },
  {
   "cell_type": "markdown",
   "id": "1aec5c29",
   "metadata": {},
   "source": [
    "Logic operations of `K.<keyword>` are now handled by `sympy`. "
   ]
  },
  {
   "cell_type": "code",
   "execution_count": 17,
   "id": "5903441d",
   "metadata": {},
   "outputs": [
    {
     "data": {
      "text/latex": [
       "$\\displaystyle x_{egap} > 1.0 \\wedge x_{egap} < 2.0$"
      ],
      "text/plain": [
       "(x_egap > 1.0) & (x_egap < 2.0)"
      ]
     },
     "execution_count": 17,
     "metadata": {},
     "output_type": "execute_result"
    }
   ],
   "source": [
    "(K.Egap > 1.0) & (K.Egap < 2.0)"
   ]
  },
  {
   "cell_type": "markdown",
   "id": "338505b2",
   "metadata": {},
   "source": [
    "Conversion of logic operations to aflow-style string is implemented in `aflow.logic`"
   ]
  },
  {
   "cell_type": "code",
   "execution_count": 18,
   "id": "6e667a71",
   "metadata": {},
   "outputs": [
    {
     "data": {
      "text/plain": [
       "'Egap(!*1.0,!2.0*)'"
      ]
     },
     "execution_count": 18,
     "metadata": {},
     "output_type": "execute_result"
    }
   ],
   "source": [
    "from aflow.logic import _expr_to_strings\n",
    "_expr_to_strings((K.Egap > 1.0) & (K.Egap < 2.0))"
   ]
  },
  {
   "cell_type": "code",
   "execution_count": null,
   "id": "5509e93a",
   "metadata": {},
   "outputs": [],
   "source": []
  }
 ],
 "metadata": {
  "kernelspec": {
   "display_name": "Python 3",
   "language": "python",
   "name": "python3"
  },
  "language_info": {
   "codemirror_mode": {
    "name": "ipython",
    "version": 3
   },
   "file_extension": ".py",
   "mimetype": "text/x-python",
   "name": "python",
   "nbconvert_exporter": "python",
   "pygments_lexer": "ipython3",
   "version": "3.9.4"
  }
 },
 "nbformat": 4,
 "nbformat_minor": 5
}
